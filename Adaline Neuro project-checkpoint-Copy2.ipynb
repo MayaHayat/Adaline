{
 "cells": [
  {
   "cell_type": "markdown",
   "id": "aeb8f4ca",
   "metadata": {},
   "source": [
    "# Adaline classifications \n",
    "\n",
    "By: Avia Oren & Maya Hayat"
   ]
  },
  {
   "cell_type": "markdown",
   "id": "cfca9501",
   "metadata": {},
   "source": [
    "## Classification Task\n",
    "\n",
    "Classifying the Hebrew letters \"ב\" \"מ\" \"ל\" using the Adaline algorithm \n"
   ]
  },
  {
   "cell_type": "markdown",
   "id": "f62e30ce",
   "metadata": {},
   "source": [
    "### Imports"
   ]
  },
  {
   "cell_type": "code",
   "execution_count": 1,
   "id": "c5c6f8a5",
   "metadata": {},
   "outputs": [],
   "source": [
    "import pandas as pd\n",
    "import numpy as np\n",
    "from sklearn.model_selection import KFold\n",
    "from sklearn.preprocessing import StandardScaler\n",
    "from sklearn.model_selection import train_test_split\n",
    "from sklearn.metrics import accuracy_score\n",
    "from sklearn.utils import shuffle\n",
    "from sklearn.metrics import accuracy_score\n",
    "import matplotlib.pyplot as plt"
   ]
  },
  {
   "cell_type": "markdown",
   "id": "b1446cba",
   "metadata": {},
   "source": [
    "### Reading data and Splitting into Train (80%) and Train(20%)"
   ]
  },
  {
   "cell_type": "code",
   "execution_count": 2,
   "id": "78f6cd6a",
   "metadata": {},
   "outputs": [],
   "source": [
    "ogdata = pd.read_csv('C:/Users/Maya/OneDrive/Desktop/vectors.csv', sep=',')\n",
    "# Complete the path"
   ]
  },
  {
   "cell_type": "code",
   "execution_count": 3,
   "id": "2d813098",
   "metadata": {},
   "outputs": [
    {
     "data": {
      "text/html": [
       "<div>\n",
       "<style scoped>\n",
       "    .dataframe tbody tr th:only-of-type {\n",
       "        vertical-align: middle;\n",
       "    }\n",
       "\n",
       "    .dataframe tbody tr th {\n",
       "        vertical-align: top;\n",
       "    }\n",
       "\n",
       "    .dataframe thead th {\n",
       "        text-align: right;\n",
       "    }\n",
       "</style>\n",
       "<table border=\"1\" class=\"dataframe\">\n",
       "  <thead>\n",
       "    <tr style=\"text-align: right;\">\n",
       "      <th></th>\n",
       "      <th>1</th>\n",
       "      <th>-1</th>\n",
       "      <th>-1.1</th>\n",
       "      <th>-1.2</th>\n",
       "      <th>-1.3</th>\n",
       "      <th>-1.4</th>\n",
       "      <th>-1.5</th>\n",
       "      <th>-1.6</th>\n",
       "      <th>-1.7</th>\n",
       "      <th>-1.8</th>\n",
       "      <th>...</th>\n",
       "      <th>-1.63</th>\n",
       "      <th>-1.64</th>\n",
       "      <th>-1.65</th>\n",
       "      <th>-1.66</th>\n",
       "      <th>-1.67</th>\n",
       "      <th>-1.68</th>\n",
       "      <th>-1.69</th>\n",
       "      <th>-1.70</th>\n",
       "      <th>-1.71</th>\n",
       "      <th>-1.72</th>\n",
       "    </tr>\n",
       "  </thead>\n",
       "  <tbody>\n",
       "    <tr>\n",
       "      <th>0</th>\n",
       "      <td>1</td>\n",
       "      <td>-1</td>\n",
       "      <td>-1</td>\n",
       "      <td>-1</td>\n",
       "      <td>-1</td>\n",
       "      <td>1</td>\n",
       "      <td>1</td>\n",
       "      <td>1</td>\n",
       "      <td>1</td>\n",
       "      <td>-1</td>\n",
       "      <td>...</td>\n",
       "      <td>-1</td>\n",
       "      <td>-1</td>\n",
       "      <td>-1</td>\n",
       "      <td>-1</td>\n",
       "      <td>-1</td>\n",
       "      <td>-1</td>\n",
       "      <td>-1</td>\n",
       "      <td>-1</td>\n",
       "      <td>-1</td>\n",
       "      <td>-1</td>\n",
       "    </tr>\n",
       "    <tr>\n",
       "      <th>1</th>\n",
       "      <td>1</td>\n",
       "      <td>-1</td>\n",
       "      <td>-1</td>\n",
       "      <td>-1</td>\n",
       "      <td>-1</td>\n",
       "      <td>-1</td>\n",
       "      <td>-1</td>\n",
       "      <td>-1</td>\n",
       "      <td>-1</td>\n",
       "      <td>-1</td>\n",
       "      <td>...</td>\n",
       "      <td>-1</td>\n",
       "      <td>-1</td>\n",
       "      <td>-1</td>\n",
       "      <td>-1</td>\n",
       "      <td>-1</td>\n",
       "      <td>-1</td>\n",
       "      <td>-1</td>\n",
       "      <td>-1</td>\n",
       "      <td>-1</td>\n",
       "      <td>-1</td>\n",
       "    </tr>\n",
       "    <tr>\n",
       "      <th>2</th>\n",
       "      <td>1</td>\n",
       "      <td>-1</td>\n",
       "      <td>-1</td>\n",
       "      <td>-1</td>\n",
       "      <td>-1</td>\n",
       "      <td>-1</td>\n",
       "      <td>1</td>\n",
       "      <td>1</td>\n",
       "      <td>-1</td>\n",
       "      <td>-1</td>\n",
       "      <td>...</td>\n",
       "      <td>-1</td>\n",
       "      <td>1</td>\n",
       "      <td>-1</td>\n",
       "      <td>-1</td>\n",
       "      <td>-1</td>\n",
       "      <td>1</td>\n",
       "      <td>1</td>\n",
       "      <td>-1</td>\n",
       "      <td>-1</td>\n",
       "      <td>-1</td>\n",
       "    </tr>\n",
       "    <tr>\n",
       "      <th>3</th>\n",
       "      <td>1</td>\n",
       "      <td>-1</td>\n",
       "      <td>-1</td>\n",
       "      <td>-1</td>\n",
       "      <td>-1</td>\n",
       "      <td>-1</td>\n",
       "      <td>-1</td>\n",
       "      <td>-1</td>\n",
       "      <td>-1</td>\n",
       "      <td>-1</td>\n",
       "      <td>...</td>\n",
       "      <td>-1</td>\n",
       "      <td>-1</td>\n",
       "      <td>-1</td>\n",
       "      <td>-1</td>\n",
       "      <td>-1</td>\n",
       "      <td>-1</td>\n",
       "      <td>-1</td>\n",
       "      <td>-1</td>\n",
       "      <td>-1</td>\n",
       "      <td>-1</td>\n",
       "    </tr>\n",
       "    <tr>\n",
       "      <th>4</th>\n",
       "      <td>1</td>\n",
       "      <td>-1</td>\n",
       "      <td>-1</td>\n",
       "      <td>-1</td>\n",
       "      <td>-1</td>\n",
       "      <td>-1</td>\n",
       "      <td>-1</td>\n",
       "      <td>-1</td>\n",
       "      <td>-1</td>\n",
       "      <td>-1</td>\n",
       "      <td>...</td>\n",
       "      <td>-1</td>\n",
       "      <td>-1</td>\n",
       "      <td>-1</td>\n",
       "      <td>-1</td>\n",
       "      <td>-1</td>\n",
       "      <td>-1</td>\n",
       "      <td>-1</td>\n",
       "      <td>-1</td>\n",
       "      <td>-1</td>\n",
       "      <td>-1</td>\n",
       "    </tr>\n",
       "    <tr>\n",
       "      <th>...</th>\n",
       "      <td>...</td>\n",
       "      <td>...</td>\n",
       "      <td>...</td>\n",
       "      <td>...</td>\n",
       "      <td>...</td>\n",
       "      <td>...</td>\n",
       "      <td>...</td>\n",
       "      <td>...</td>\n",
       "      <td>...</td>\n",
       "      <td>...</td>\n",
       "      <td>...</td>\n",
       "      <td>...</td>\n",
       "      <td>...</td>\n",
       "      <td>...</td>\n",
       "      <td>...</td>\n",
       "      <td>...</td>\n",
       "      <td>...</td>\n",
       "      <td>...</td>\n",
       "      <td>...</td>\n",
       "      <td>...</td>\n",
       "      <td>...</td>\n",
       "    </tr>\n",
       "    <tr>\n",
       "      <th>628</th>\n",
       "      <td>3</td>\n",
       "      <td>-1</td>\n",
       "      <td>-1</td>\n",
       "      <td>-1</td>\n",
       "      <td>-1</td>\n",
       "      <td>-1</td>\n",
       "      <td>-1</td>\n",
       "      <td>-1</td>\n",
       "      <td>-1</td>\n",
       "      <td>1</td>\n",
       "      <td>...</td>\n",
       "      <td>-1</td>\n",
       "      <td>-1</td>\n",
       "      <td>-1</td>\n",
       "      <td>1</td>\n",
       "      <td>-1</td>\n",
       "      <td>-1</td>\n",
       "      <td>-1</td>\n",
       "      <td>-1</td>\n",
       "      <td>-1</td>\n",
       "      <td>-1</td>\n",
       "    </tr>\n",
       "    <tr>\n",
       "      <th>629</th>\n",
       "      <td>3</td>\n",
       "      <td>-1</td>\n",
       "      <td>-1</td>\n",
       "      <td>-1</td>\n",
       "      <td>-1</td>\n",
       "      <td>-1</td>\n",
       "      <td>-1</td>\n",
       "      <td>-1</td>\n",
       "      <td>-1</td>\n",
       "      <td>1</td>\n",
       "      <td>...</td>\n",
       "      <td>-1</td>\n",
       "      <td>1</td>\n",
       "      <td>-1</td>\n",
       "      <td>-1</td>\n",
       "      <td>-1</td>\n",
       "      <td>-1</td>\n",
       "      <td>-1</td>\n",
       "      <td>-1</td>\n",
       "      <td>-1</td>\n",
       "      <td>-1</td>\n",
       "    </tr>\n",
       "    <tr>\n",
       "      <th>630</th>\n",
       "      <td>3</td>\n",
       "      <td>-1</td>\n",
       "      <td>-1</td>\n",
       "      <td>-1</td>\n",
       "      <td>-1</td>\n",
       "      <td>-1</td>\n",
       "      <td>-1</td>\n",
       "      <td>-1</td>\n",
       "      <td>-1</td>\n",
       "      <td>-1</td>\n",
       "      <td>...</td>\n",
       "      <td>1</td>\n",
       "      <td>-1</td>\n",
       "      <td>-1</td>\n",
       "      <td>-1</td>\n",
       "      <td>-1</td>\n",
       "      <td>-1</td>\n",
       "      <td>-1</td>\n",
       "      <td>-1</td>\n",
       "      <td>-1</td>\n",
       "      <td>-1</td>\n",
       "    </tr>\n",
       "    <tr>\n",
       "      <th>631</th>\n",
       "      <td>3</td>\n",
       "      <td>-1</td>\n",
       "      <td>-1</td>\n",
       "      <td>-1</td>\n",
       "      <td>-1</td>\n",
       "      <td>-1</td>\n",
       "      <td>-1</td>\n",
       "      <td>-1</td>\n",
       "      <td>-1</td>\n",
       "      <td>-1</td>\n",
       "      <td>...</td>\n",
       "      <td>-1</td>\n",
       "      <td>1</td>\n",
       "      <td>-1</td>\n",
       "      <td>-1</td>\n",
       "      <td>-1</td>\n",
       "      <td>-1</td>\n",
       "      <td>-1</td>\n",
       "      <td>-1</td>\n",
       "      <td>-1</td>\n",
       "      <td>-1</td>\n",
       "    </tr>\n",
       "    <tr>\n",
       "      <th>632</th>\n",
       "      <td>3</td>\n",
       "      <td>-1</td>\n",
       "      <td>-1</td>\n",
       "      <td>1</td>\n",
       "      <td>1</td>\n",
       "      <td>-1</td>\n",
       "      <td>-1</td>\n",
       "      <td>-1</td>\n",
       "      <td>-1</td>\n",
       "      <td>-1</td>\n",
       "      <td>...</td>\n",
       "      <td>1</td>\n",
       "      <td>-1</td>\n",
       "      <td>-1</td>\n",
       "      <td>-1</td>\n",
       "      <td>-1</td>\n",
       "      <td>-1</td>\n",
       "      <td>-1</td>\n",
       "      <td>1</td>\n",
       "      <td>-1</td>\n",
       "      <td>-1</td>\n",
       "    </tr>\n",
       "  </tbody>\n",
       "</table>\n",
       "<p>633 rows × 101 columns</p>\n",
       "</div>"
      ],
      "text/plain": [
       "     1  -1  -1.1  -1.2  -1.3  -1.4  -1.5  -1.6  -1.7  -1.8  ...  -1.63  -1.64  \\\n",
       "0    1  -1    -1    -1    -1     1     1     1     1    -1  ...     -1     -1   \n",
       "1    1  -1    -1    -1    -1    -1    -1    -1    -1    -1  ...     -1     -1   \n",
       "2    1  -1    -1    -1    -1    -1     1     1    -1    -1  ...     -1      1   \n",
       "3    1  -1    -1    -1    -1    -1    -1    -1    -1    -1  ...     -1     -1   \n",
       "4    1  -1    -1    -1    -1    -1    -1    -1    -1    -1  ...     -1     -1   \n",
       "..  ..  ..   ...   ...   ...   ...   ...   ...   ...   ...  ...    ...    ...   \n",
       "628  3  -1    -1    -1    -1    -1    -1    -1    -1     1  ...     -1     -1   \n",
       "629  3  -1    -1    -1    -1    -1    -1    -1    -1     1  ...     -1      1   \n",
       "630  3  -1    -1    -1    -1    -1    -1    -1    -1    -1  ...      1     -1   \n",
       "631  3  -1    -1    -1    -1    -1    -1    -1    -1    -1  ...     -1      1   \n",
       "632  3  -1    -1     1     1    -1    -1    -1    -1    -1  ...      1     -1   \n",
       "\n",
       "     -1.65  -1.66  -1.67  -1.68  -1.69  -1.70  -1.71  -1.72  \n",
       "0       -1     -1     -1     -1     -1     -1     -1     -1  \n",
       "1       -1     -1     -1     -1     -1     -1     -1     -1  \n",
       "2       -1     -1     -1      1      1     -1     -1     -1  \n",
       "3       -1     -1     -1     -1     -1     -1     -1     -1  \n",
       "4       -1     -1     -1     -1     -1     -1     -1     -1  \n",
       "..     ...    ...    ...    ...    ...    ...    ...    ...  \n",
       "628     -1      1     -1     -1     -1     -1     -1     -1  \n",
       "629     -1     -1     -1     -1     -1     -1     -1     -1  \n",
       "630     -1     -1     -1     -1     -1     -1     -1     -1  \n",
       "631     -1     -1     -1     -1     -1     -1     -1     -1  \n",
       "632     -1     -1     -1     -1     -1      1     -1     -1  \n",
       "\n",
       "[633 rows x 101 columns]"
      ]
     },
     "execution_count": 3,
     "metadata": {},
     "output_type": "execute_result"
    }
   ],
   "source": [
    "ogdata"
   ]
  },
  {
   "cell_type": "markdown",
   "id": "3bbc6a7e",
   "metadata": {},
   "source": [
    "Eliminating any rows that are made up complitly of the number 1 or -1 (this is an error)"
   ]
  },
  {
   "cell_type": "code",
   "execution_count": 55,
   "id": "f3a09f31",
   "metadata": {},
   "outputs": [],
   "source": [
    "ogdata = ogdata[~ogdata.iloc[:, 1:].apply(lambda row: all(val == -1 for val in row), axis=1)]\n",
    "ogdata = ogdata[~ogdata.iloc[:, 1:].apply(lambda row: all(val == 1 for val in row), axis=1)]"
   ]
  },
  {
   "cell_type": "code",
   "execution_count": 56,
   "id": "86f69a51",
   "metadata": {},
   "outputs": [],
   "source": [
    "data = ogdata"
   ]
  },
  {
   "cell_type": "code",
   "execution_count": 57,
   "id": "ec6e47eb",
   "metadata": {},
   "outputs": [
    {
     "data": {
      "text/html": [
       "<div>\n",
       "<style scoped>\n",
       "    .dataframe tbody tr th:only-of-type {\n",
       "        vertical-align: middle;\n",
       "    }\n",
       "\n",
       "    .dataframe tbody tr th {\n",
       "        vertical-align: top;\n",
       "    }\n",
       "\n",
       "    .dataframe thead th {\n",
       "        text-align: right;\n",
       "    }\n",
       "</style>\n",
       "<table border=\"1\" class=\"dataframe\">\n",
       "  <thead>\n",
       "    <tr style=\"text-align: right;\">\n",
       "      <th></th>\n",
       "      <th>1</th>\n",
       "      <th>-1</th>\n",
       "      <th>-1.1</th>\n",
       "      <th>-1.2</th>\n",
       "      <th>-1.3</th>\n",
       "      <th>-1.4</th>\n",
       "      <th>-1.5</th>\n",
       "      <th>-1.6</th>\n",
       "      <th>-1.7</th>\n",
       "      <th>-1.8</th>\n",
       "      <th>...</th>\n",
       "      <th>-1.63</th>\n",
       "      <th>-1.64</th>\n",
       "      <th>-1.65</th>\n",
       "      <th>-1.66</th>\n",
       "      <th>-1.67</th>\n",
       "      <th>-1.68</th>\n",
       "      <th>-1.69</th>\n",
       "      <th>-1.70</th>\n",
       "      <th>-1.71</th>\n",
       "      <th>-1.72</th>\n",
       "    </tr>\n",
       "  </thead>\n",
       "  <tbody>\n",
       "    <tr>\n",
       "      <th>0</th>\n",
       "      <td>1</td>\n",
       "      <td>-1</td>\n",
       "      <td>-1</td>\n",
       "      <td>-1</td>\n",
       "      <td>-1</td>\n",
       "      <td>1</td>\n",
       "      <td>1</td>\n",
       "      <td>1</td>\n",
       "      <td>1</td>\n",
       "      <td>-1</td>\n",
       "      <td>...</td>\n",
       "      <td>-1</td>\n",
       "      <td>-1</td>\n",
       "      <td>-1</td>\n",
       "      <td>-1</td>\n",
       "      <td>-1</td>\n",
       "      <td>-1</td>\n",
       "      <td>-1</td>\n",
       "      <td>-1</td>\n",
       "      <td>-1</td>\n",
       "      <td>-1</td>\n",
       "    </tr>\n",
       "    <tr>\n",
       "      <th>1</th>\n",
       "      <td>1</td>\n",
       "      <td>-1</td>\n",
       "      <td>-1</td>\n",
       "      <td>-1</td>\n",
       "      <td>-1</td>\n",
       "      <td>-1</td>\n",
       "      <td>-1</td>\n",
       "      <td>-1</td>\n",
       "      <td>-1</td>\n",
       "      <td>-1</td>\n",
       "      <td>...</td>\n",
       "      <td>-1</td>\n",
       "      <td>-1</td>\n",
       "      <td>-1</td>\n",
       "      <td>-1</td>\n",
       "      <td>-1</td>\n",
       "      <td>-1</td>\n",
       "      <td>-1</td>\n",
       "      <td>-1</td>\n",
       "      <td>-1</td>\n",
       "      <td>-1</td>\n",
       "    </tr>\n",
       "    <tr>\n",
       "      <th>2</th>\n",
       "      <td>1</td>\n",
       "      <td>-1</td>\n",
       "      <td>-1</td>\n",
       "      <td>-1</td>\n",
       "      <td>-1</td>\n",
       "      <td>-1</td>\n",
       "      <td>1</td>\n",
       "      <td>1</td>\n",
       "      <td>-1</td>\n",
       "      <td>-1</td>\n",
       "      <td>...</td>\n",
       "      <td>-1</td>\n",
       "      <td>1</td>\n",
       "      <td>-1</td>\n",
       "      <td>-1</td>\n",
       "      <td>-1</td>\n",
       "      <td>1</td>\n",
       "      <td>1</td>\n",
       "      <td>-1</td>\n",
       "      <td>-1</td>\n",
       "      <td>-1</td>\n",
       "    </tr>\n",
       "    <tr>\n",
       "      <th>3</th>\n",
       "      <td>1</td>\n",
       "      <td>-1</td>\n",
       "      <td>-1</td>\n",
       "      <td>-1</td>\n",
       "      <td>-1</td>\n",
       "      <td>-1</td>\n",
       "      <td>-1</td>\n",
       "      <td>-1</td>\n",
       "      <td>-1</td>\n",
       "      <td>-1</td>\n",
       "      <td>...</td>\n",
       "      <td>-1</td>\n",
       "      <td>-1</td>\n",
       "      <td>-1</td>\n",
       "      <td>-1</td>\n",
       "      <td>-1</td>\n",
       "      <td>-1</td>\n",
       "      <td>-1</td>\n",
       "      <td>-1</td>\n",
       "      <td>-1</td>\n",
       "      <td>-1</td>\n",
       "    </tr>\n",
       "    <tr>\n",
       "      <th>4</th>\n",
       "      <td>1</td>\n",
       "      <td>-1</td>\n",
       "      <td>-1</td>\n",
       "      <td>-1</td>\n",
       "      <td>-1</td>\n",
       "      <td>-1</td>\n",
       "      <td>-1</td>\n",
       "      <td>-1</td>\n",
       "      <td>-1</td>\n",
       "      <td>-1</td>\n",
       "      <td>...</td>\n",
       "      <td>-1</td>\n",
       "      <td>-1</td>\n",
       "      <td>-1</td>\n",
       "      <td>-1</td>\n",
       "      <td>-1</td>\n",
       "      <td>-1</td>\n",
       "      <td>-1</td>\n",
       "      <td>-1</td>\n",
       "      <td>-1</td>\n",
       "      <td>-1</td>\n",
       "    </tr>\n",
       "    <tr>\n",
       "      <th>...</th>\n",
       "      <td>...</td>\n",
       "      <td>...</td>\n",
       "      <td>...</td>\n",
       "      <td>...</td>\n",
       "      <td>...</td>\n",
       "      <td>...</td>\n",
       "      <td>...</td>\n",
       "      <td>...</td>\n",
       "      <td>...</td>\n",
       "      <td>...</td>\n",
       "      <td>...</td>\n",
       "      <td>...</td>\n",
       "      <td>...</td>\n",
       "      <td>...</td>\n",
       "      <td>...</td>\n",
       "      <td>...</td>\n",
       "      <td>...</td>\n",
       "      <td>...</td>\n",
       "      <td>...</td>\n",
       "      <td>...</td>\n",
       "      <td>...</td>\n",
       "    </tr>\n",
       "    <tr>\n",
       "      <th>628</th>\n",
       "      <td>3</td>\n",
       "      <td>-1</td>\n",
       "      <td>-1</td>\n",
       "      <td>-1</td>\n",
       "      <td>-1</td>\n",
       "      <td>-1</td>\n",
       "      <td>-1</td>\n",
       "      <td>-1</td>\n",
       "      <td>-1</td>\n",
       "      <td>1</td>\n",
       "      <td>...</td>\n",
       "      <td>-1</td>\n",
       "      <td>-1</td>\n",
       "      <td>-1</td>\n",
       "      <td>1</td>\n",
       "      <td>-1</td>\n",
       "      <td>-1</td>\n",
       "      <td>-1</td>\n",
       "      <td>-1</td>\n",
       "      <td>-1</td>\n",
       "      <td>-1</td>\n",
       "    </tr>\n",
       "    <tr>\n",
       "      <th>629</th>\n",
       "      <td>3</td>\n",
       "      <td>-1</td>\n",
       "      <td>-1</td>\n",
       "      <td>-1</td>\n",
       "      <td>-1</td>\n",
       "      <td>-1</td>\n",
       "      <td>-1</td>\n",
       "      <td>-1</td>\n",
       "      <td>-1</td>\n",
       "      <td>1</td>\n",
       "      <td>...</td>\n",
       "      <td>-1</td>\n",
       "      <td>1</td>\n",
       "      <td>-1</td>\n",
       "      <td>-1</td>\n",
       "      <td>-1</td>\n",
       "      <td>-1</td>\n",
       "      <td>-1</td>\n",
       "      <td>-1</td>\n",
       "      <td>-1</td>\n",
       "      <td>-1</td>\n",
       "    </tr>\n",
       "    <tr>\n",
       "      <th>630</th>\n",
       "      <td>3</td>\n",
       "      <td>-1</td>\n",
       "      <td>-1</td>\n",
       "      <td>-1</td>\n",
       "      <td>-1</td>\n",
       "      <td>-1</td>\n",
       "      <td>-1</td>\n",
       "      <td>-1</td>\n",
       "      <td>-1</td>\n",
       "      <td>-1</td>\n",
       "      <td>...</td>\n",
       "      <td>1</td>\n",
       "      <td>-1</td>\n",
       "      <td>-1</td>\n",
       "      <td>-1</td>\n",
       "      <td>-1</td>\n",
       "      <td>-1</td>\n",
       "      <td>-1</td>\n",
       "      <td>-1</td>\n",
       "      <td>-1</td>\n",
       "      <td>-1</td>\n",
       "    </tr>\n",
       "    <tr>\n",
       "      <th>631</th>\n",
       "      <td>3</td>\n",
       "      <td>-1</td>\n",
       "      <td>-1</td>\n",
       "      <td>-1</td>\n",
       "      <td>-1</td>\n",
       "      <td>-1</td>\n",
       "      <td>-1</td>\n",
       "      <td>-1</td>\n",
       "      <td>-1</td>\n",
       "      <td>-1</td>\n",
       "      <td>...</td>\n",
       "      <td>-1</td>\n",
       "      <td>1</td>\n",
       "      <td>-1</td>\n",
       "      <td>-1</td>\n",
       "      <td>-1</td>\n",
       "      <td>-1</td>\n",
       "      <td>-1</td>\n",
       "      <td>-1</td>\n",
       "      <td>-1</td>\n",
       "      <td>-1</td>\n",
       "    </tr>\n",
       "    <tr>\n",
       "      <th>632</th>\n",
       "      <td>3</td>\n",
       "      <td>-1</td>\n",
       "      <td>-1</td>\n",
       "      <td>1</td>\n",
       "      <td>1</td>\n",
       "      <td>-1</td>\n",
       "      <td>-1</td>\n",
       "      <td>-1</td>\n",
       "      <td>-1</td>\n",
       "      <td>-1</td>\n",
       "      <td>...</td>\n",
       "      <td>1</td>\n",
       "      <td>-1</td>\n",
       "      <td>-1</td>\n",
       "      <td>-1</td>\n",
       "      <td>-1</td>\n",
       "      <td>-1</td>\n",
       "      <td>-1</td>\n",
       "      <td>1</td>\n",
       "      <td>-1</td>\n",
       "      <td>-1</td>\n",
       "    </tr>\n",
       "  </tbody>\n",
       "</table>\n",
       "<p>624 rows × 101 columns</p>\n",
       "</div>"
      ],
      "text/plain": [
       "     1  -1  -1.1  -1.2  -1.3  -1.4  -1.5  -1.6  -1.7  -1.8  ...  -1.63  -1.64  \\\n",
       "0    1  -1    -1    -1    -1     1     1     1     1    -1  ...     -1     -1   \n",
       "1    1  -1    -1    -1    -1    -1    -1    -1    -1    -1  ...     -1     -1   \n",
       "2    1  -1    -1    -1    -1    -1     1     1    -1    -1  ...     -1      1   \n",
       "3    1  -1    -1    -1    -1    -1    -1    -1    -1    -1  ...     -1     -1   \n",
       "4    1  -1    -1    -1    -1    -1    -1    -1    -1    -1  ...     -1     -1   \n",
       "..  ..  ..   ...   ...   ...   ...   ...   ...   ...   ...  ...    ...    ...   \n",
       "628  3  -1    -1    -1    -1    -1    -1    -1    -1     1  ...     -1     -1   \n",
       "629  3  -1    -1    -1    -1    -1    -1    -1    -1     1  ...     -1      1   \n",
       "630  3  -1    -1    -1    -1    -1    -1    -1    -1    -1  ...      1     -1   \n",
       "631  3  -1    -1    -1    -1    -1    -1    -1    -1    -1  ...     -1      1   \n",
       "632  3  -1    -1     1     1    -1    -1    -1    -1    -1  ...      1     -1   \n",
       "\n",
       "     -1.65  -1.66  -1.67  -1.68  -1.69  -1.70  -1.71  -1.72  \n",
       "0       -1     -1     -1     -1     -1     -1     -1     -1  \n",
       "1       -1     -1     -1     -1     -1     -1     -1     -1  \n",
       "2       -1     -1     -1      1      1     -1     -1     -1  \n",
       "3       -1     -1     -1     -1     -1     -1     -1     -1  \n",
       "4       -1     -1     -1     -1     -1     -1     -1     -1  \n",
       "..     ...    ...    ...    ...    ...    ...    ...    ...  \n",
       "628     -1      1     -1     -1     -1     -1     -1     -1  \n",
       "629     -1     -1     -1     -1     -1     -1     -1     -1  \n",
       "630     -1     -1     -1     -1     -1     -1     -1     -1  \n",
       "631     -1     -1     -1     -1     -1     -1     -1     -1  \n",
       "632     -1     -1     -1     -1     -1      1     -1     -1  \n",
       "\n",
       "[624 rows x 101 columns]"
      ]
     },
     "execution_count": 57,
     "metadata": {},
     "output_type": "execute_result"
    }
   ],
   "source": [
    "data #printing the data after removing errors"
   ]
  },
  {
   "cell_type": "markdown",
   "id": "d5bb5cec",
   "metadata": {},
   "source": [
    "# The Adaline Class"
   ]
  },
  {
   "cell_type": "code",
   "execution_count": 58,
   "id": "7b7428f9",
   "metadata": {},
   "outputs": [],
   "source": [
    "class Adaline:\n",
    "    \n",
    "    def __init__(self, lr, n_epochs, random_state=None):\n",
    "        self.lr = lr\n",
    "        self.n_epochs = n_epochs\n",
    "        self.random_state = random_state\n",
    "        self.weights = None\n",
    "        self.bias = None\n",
    "        self.cost_ = []\n",
    "     \n",
    "    #This function is explained in the attached PDF\n",
    "    def fit(self, X, y):\n",
    "        if X.shape[0] != y.shape[0]:\n",
    "            raise ValueError('X and y must have the same number of rows.')\n",
    "        self.weights = np.random.randn(X.shape[1])\n",
    "        self.bias = np.random.randn()\n",
    "\n",
    "        cost_prev = np.inf #set cost prev to infinity\n",
    "        for i in range(self.n_epochs):\n",
    "            error = y - self.net_input(X)\n",
    "            #print(self.net_input(X), error)\n",
    "            self.weights += self.lr * X.T.dot(error)\n",
    "            self.bias += self.lr * error.sum()\n",
    "            cost = (error**2).sum() / 2.0\n",
    "            self.cost_.append(cost)\n",
    "            #print(cost, cost_prev)\n",
    "            if i > 2 and abs(cost - cost_prev) < 0.5:\n",
    "                print(f\"Stopping training after {i+1} epoch to avoid overfitting.\")\n",
    "                break    \n",
    "            cost_prev = cost\n",
    "        \n",
    "        # PLoting the converging graphs\n",
    "        plt.figure()\n",
    "        plt.plot(ada.cost_)\n",
    "        plt.title(f'Fold {i} Cost')\n",
    "        plt.xlabel('Epoch')\n",
    "        plt.ylabel('Cost')\n",
    "        plt.show()\n",
    "\n",
    "\n",
    "    \n",
    "    def predict(self, X):\n",
    "        return np.where(self.net_input(X) >= 0, 1, -1)\n",
    "    \n",
    "    \n",
    "    def net_input(self, X):\n",
    "        return X.dot(self.weights) + self.bias\n"
   ]
  },
  {
   "cell_type": "markdown",
   "id": "b27e3c9d",
   "metadata": {},
   "source": [
    "## Comparing between \"Bet\" & \"Lamed\""
   ]
  },
  {
   "cell_type": "code",
   "execution_count": 39,
   "id": "396ab870",
   "metadata": {},
   "outputs": [],
   "source": [
    "data = ogdata[ogdata['1'] != 3] #Eliminating \"Mem\" denoted by 3"
   ]
  },
  {
   "cell_type": "code",
   "execution_count": 40,
   "id": "a189d05c",
   "metadata": {},
   "outputs": [
    {
     "name": "stdout",
     "output_type": "stream",
     "text": [
      "Stopping training after epoch 228 due to small change in cost.\n"
     ]
    },
    {
     "data": {
      "image/png": "[encoded data removed]",
      "text/plain": [
       "<Figure size 432x288 with 1 Axes>"
      ]
     },
     "metadata": {
      "needs_background": "light"
     },
     "output_type": "display_data"
    },
    {
     "name": "stdout",
     "output_type": "stream",
     "text": [
      "Accuracy 1: 0.87\n",
      "Standard Deviation 0: 0.6781323990106163\n",
      "Stopping training after epoch 306 due to small change in cost.\n"
     ]
    },
    {
     "data": {
      "image/png": "[encoded data removed]",
      "text/plain": [
       "<Figure size 432x288 with 1 Axes>"
      ]
     },
     "metadata": {
      "needs_background": "light"
     },
     "output_type": "display_data"
    },
    {
     "name": "stdout",
     "output_type": "stream",
     "text": [
      "Accuracy 2: 0.90\n",
      "Standard Deviation 1: 0.5902384922369104\n",
      "Stopping training after epoch 289 due to small change in cost.\n"
     ]
    },
    {
     "data": {
      "image/png": "[encoded data removed]",
      "text/plain": [
       "<Figure size 432x288 with 1 Axes>"
      ]
     },
     "metadata": {
      "needs_background": "light"
     },
     "output_type": "display_data"
    },
    {
     "name": "stdout",
     "output_type": "stream",
     "text": [
      "Accuracy 3: 0.88\n",
      "Standard Deviation 2: 0.651048486077412\n",
      "Stopping training after epoch 270 due to small change in cost.\n"
     ]
    },
    {
     "data": {
      "image/png": "[encoded data removed]",
      "text/plain": [
       "<Figure size 432x288 with 1 Axes>"
      ]
     },
     "metadata": {
      "needs_background": "light"
     },
     "output_type": "display_data"
    },
    {
     "name": "stdout",
     "output_type": "stream",
     "text": [
      "Accuracy 4: 0.86\n",
      "Standard Deviation 3: 0.7033503382807916\n",
      "Stopping training after epoch 266 due to small change in cost.\n"
     ]
    },
    {
     "data": {
      "image/png": "[encoded data removed]",
      "text/plain": [
       "<Figure size 432x288 with 1 Axes>"
      ]
     },
     "metadata": {
      "needs_background": "light"
     },
     "output_type": "display_data"
    },
    {
     "name": "stdout",
     "output_type": "stream",
     "text": [
      "Accuracy 5: 0.77\n",
      "Standard Deviation 4: 0.8402696758632624\n",
      "Average Accuracy: 0.86\n"
     ]
    }
   ],
   "source": [
    "features = data.iloc[:, 1:]\n",
    "\n",
    "# Apply normalization using StandardScaler\n",
    "\n",
    "scaler = StandardScaler()\n",
    "normalized_features = scaler.fit_transform(features)\n",
    "\n",
    "# Create a new DataFrame with the normalized features\n",
    "normalized_data = pd.DataFrame(normalized_features, columns=features.columns)\n",
    "#Adding back the first column to the normalized data\n",
    "data_normalized = pd.concat([data.iloc[:, 0], normalized_data], axis=1)\n",
    "data = normalized_data\n",
    "data = shuffle(normalized_data, random_state=42)\n",
    "\n",
    "# Separate the labels (y) and features (X) \n",
    "\n",
    "X = data.iloc[:, 1:]  #  the remaining columns are the features\n",
    "y = np.where(data.iloc[:, 0].values !=2, -1, 1) #  the first column contains the labels , need to change the lables to -1 ,1\n",
    "\n",
    "#cross - validation five times to see the algorithm working on different parts of the text, make sure answer isn't \"by luck\"\n",
    "\n",
    "n_repeats = 5\n",
    "test_size = 0.2\n",
    "n_splits = int(1 / test_size)\n",
    "accuracies = []\n",
    "\n",
    "\n",
    "for i in range(n_repeats):\n",
    "\n",
    "    # Split the data into training and test sets\n",
    "    split_index = int((i % n_splits) * len(X) * test_size)\n",
    "    X_test = X[split_index:split_index + int(len(X) * test_size)]\n",
    "    y_test = y[split_index:split_index + int(len(X) * test_size)]\n",
    "    X_train = np.concatenate([X[:split_index], X[split_index + int(len(X) * test_size):]])\n",
    "    y_train = np.concatenate([y[:split_index], y[split_index + int(len(X) * test_size):]])\n",
    "\n",
    "    # Training and predicting using the Adaline class above\n",
    "    ada = Adaline(lr=0.0001, n_epochs=1000, random_state=1)\n",
    "    ada.fit(X_train, y_train)\n",
    "    y_pred = ada.predict(X_test)\n",
    "\n",
    "\n",
    "\n",
    "    # Printing the STD and Accuracy\n",
    "    accuracy = (y_pred == y_test).mean()\n",
    "    accuracies.append(accuracy)\n",
    "    print(f'Accuracy {i+1}: {accuracy:.2f}')\n",
    "    std_dev = np.std(y_pred)\n",
    "    print(f'Standard Deviation {i}: {std_dev}')\n",
    "\n",
    "\n",
    "\n",
    "# Compute and print the average accuracy over all repetitions\n",
    "\n",
    "average_accuracy = np.mean(accuracies)\n",
    "print(f'Average Accuracy: {average_accuracy:.2f}')"
   ]
  },
  {
   "cell_type": "markdown",
   "id": "09014b9b",
   "metadata": {},
   "source": [
    "## Comparing between \"Bet\" & \"Mem\""
   ]
  },
  {
   "cell_type": "code",
   "execution_count": 51,
   "id": "a3d5d418",
   "metadata": {},
   "outputs": [],
   "source": [
    "data = ogdata[ogdata['1'] != 2] #Eliminating \"Lamed\" denoted by 2"
   ]
  },
  {
   "cell_type": "code",
   "execution_count": 53,
   "id": "f793ce33",
   "metadata": {},
   "outputs": [
    {
     "name": "stdout",
     "output_type": "stream",
     "text": [
      "Stopping training after epoch 297 due to small change in cost.\n"
     ]
    },
    {
     "data": {
      "image/png": "[encoded data removed]",
      "text/plain": [
       "<Figure size 432x288 with 1 Axes>"
      ]
     },
     "metadata": {
      "needs_background": "light"
     },
     "output_type": "display_data"
    },
    {
     "name": "stdout",
     "output_type": "stream",
     "text": [
      "Accuracy 1: 0.84\n",
      "Standard Deviation 0: 0.7268965363372702\n",
      "Stopping training after epoch 294 due to small change in cost.\n"
     ]
    },
    {
     "data": {
      "image/png": "[encoded data removed]",
      "text/plain": [
       "<Figure size 432x288 with 1 Axes>"
      ]
     },
     "metadata": {
      "needs_background": "light"
     },
     "output_type": "display_data"
    },
    {
     "name": "stdout",
     "output_type": "stream",
     "text": [
      "Accuracy 2: 0.77\n",
      "Standard Deviation 1: 0.8402696758632624\n",
      "Stopping training after epoch 301 due to small change in cost.\n"
     ]
    },
    {
     "data": {
      "image/png": "[encoded data removed]",
      "text/plain": [
       "<Figure size 432x288 with 1 Axes>"
      ]
     },
     "metadata": {
      "needs_background": "light"
     },
     "output_type": "display_data"
    },
    {
     "name": "stdout",
     "output_type": "stream",
     "text": [
      "Accuracy 3: 0.89\n",
      "Standard Deviation 2: 0.6218548385813947\n",
      "Stopping training after epoch 271 due to small change in cost.\n"
     ]
    },
    {
     "data": {
      "image/png": "[encoded data removed]",
      "text/plain": [
       "<Figure size 432x288 with 1 Axes>"
      ]
     },
     "metadata": {
      "needs_background": "light"
     },
     "output_type": "display_data"
    },
    {
     "name": "stdout",
     "output_type": "stream",
     "text": [
      "Accuracy 4: 0.83\n",
      "Standard Deviation 3: 0.7489286876106049\n",
      "Stopping training after epoch 295 due to small change in cost.\n"
     ]
    },
    {
     "data": {
      "image/png": "[encoded data removed]",
      "text/plain": [
       "<Figure size 432x288 with 1 Axes>"
      ]
     },
     "metadata": {
      "needs_background": "light"
     },
     "output_type": "display_data"
    },
    {
     "name": "stdout",
     "output_type": "stream",
     "text": [
      "Accuracy 5: 0.87\n",
      "Standard Deviation 4: 0.6781323990106163\n",
      "Average Accuracy: 0.84\n"
     ]
    }
   ],
   "source": [
    "features = data.iloc[:, 1:]\n",
    "\n",
    "# Apply normalization using StandardScaler\n",
    "\n",
    "scaler = StandardScaler()\n",
    "normalized_features = scaler.fit_transform(features)\n",
    "\n",
    "# Create a new DataFrame with the normalized features\n",
    "normalized_data = pd.DataFrame(normalized_features, columns=features.columns)\n",
    "#Adding back the first column to the normalized data\n",
    "data_normalized = pd.concat([data.iloc[:, 0], normalized_data], axis=1)\n",
    "data = normalized_data\n",
    "data = shuffle(normalized_data, random_state=42)\n",
    "\n",
    "# Separate the labels (y) and features (X) \n",
    "\n",
    "X = data.iloc[:, 1:]  #  the remaining columns are the features\n",
    "y = np.where(data.iloc[:, 0].values !=3, -1, 1) #  the first column contains the labels , need to change the lables to -1 ,1\n",
    "\n",
    "#cross - validation five times to see the algorithm working on different parts of the text, make sure answer isn't \"by luck\"\n",
    "\n",
    "n_repeats = 5\n",
    "test_size = 0.2\n",
    "n_splits = int(1 / test_size)\n",
    "accuracies = []\n",
    "\n",
    "\n",
    "for i in range(n_repeats):\n",
    "\n",
    "    # Split the data into training and test sets\n",
    "    split_index = int((i % n_splits) * len(X) * test_size)\n",
    "    X_test = X[split_index:split_index + int(len(X) * test_size)]\n",
    "    y_test = y[split_index:split_index + int(len(X) * test_size)]\n",
    "    X_train = np.concatenate([X[:split_index], X[split_index + int(len(X) * test_size):]])\n",
    "    y_train = np.concatenate([y[:split_index], y[split_index + int(len(X) * test_size):]])\n",
    "\n",
    "    # Training and predicting using the Adaline class above\n",
    "    ada = Adaline(lr=0.0001, n_epochs=1000, random_state=1)\n",
    "    ada.fit(X_train, y_train)\n",
    "    y_pred = ada.predict(X_test)\n",
    "\n",
    "\n",
    "\n",
    "    # Printing the STD and Accuracy\n",
    "    accuracy = (y_pred == y_test).mean()\n",
    "    accuracies.append(accuracy)\n",
    "    print(f'Accuracy {i+1}: {accuracy:.2f}')\n",
    "    std_dev = np.std(y_pred)\n",
    "    print(f'Standard Deviation {i}: {std_dev}')\n",
    "\n",
    "\n",
    "\n",
    "# Compute and print the average accuracy over all repetitions\n",
    "\n",
    "average_accuracy = np.mean(accuracies)\n",
    "print(f'Average Accuracy: {average_accuracy:.2f}')"
   ]
  },
  {
   "cell_type": "markdown",
   "id": "26126782",
   "metadata": {},
   "source": [
    "## Comparing between \"Lamed\" & \"Mem\""
   ]
  },
  {
   "cell_type": "code",
   "execution_count": 59,
   "id": "d252b333",
   "metadata": {},
   "outputs": [],
   "source": [
    "data = ogdata[ogdata['1'] != 1] #Eliminating \"Bet\" denoted by 1"
   ]
  },
  {
   "cell_type": "code",
   "execution_count": 50,
   "id": "9db46a84",
   "metadata": {},
   "outputs": [
    {
     "name": "stdout",
     "output_type": "stream",
     "text": [
      "Stopping training after epoch 280 due to small change in cost.\n"
     ]
    },
    {
     "data": {
      "image/png": "[encoded data removed]",
      "text/plain": [
       "<Figure size 432x288 with 1 Axes>"
      ]
     },
     "metadata": {
      "needs_background": "light"
     },
     "output_type": "display_data"
    },
    {
     "name": "stdout",
     "output_type": "stream",
     "text": [
      "Accuracy 1: 0.87\n",
      "Standard Deviation 0: 0.681618956706445\n",
      "Stopping training after epoch 277 due to small change in cost.\n"
     ]
    },
    {
     "data": {
      "image/png": "[encoded data removed]",
      "text/plain": [
       "<Figure size 432x288 with 1 Axes>"
      ]
     },
     "metadata": {
      "needs_background": "light"
     },
     "output_type": "display_data"
    },
    {
     "name": "stdout",
     "output_type": "stream",
     "text": [
      "Accuracy 2: 0.88\n",
      "Standard Deviation 1: 0.6544589202438409\n",
      "Stopping training after epoch 279 due to small change in cost.\n"
     ]
    },
    {
     "data": {
      "image/png": "[encoded data removed]",
      "text/plain": [
       "<Figure size 432x288 with 1 Axes>"
      ]
     },
     "metadata": {
      "needs_background": "light"
     },
     "output_type": "display_data"
    },
    {
     "name": "stdout",
     "output_type": "stream",
     "text": [
      "Accuracy 3: 0.90\n",
      "Standard Deviation 2: 0.5934402468583629\n",
      "Stopping training after epoch 276 due to small change in cost.\n"
     ]
    },
    {
     "data": {
      "image/png": "[encoded data removed]",
      "text/plain": [
       "<Figure size 432x288 with 1 Axes>"
      ]
     },
     "metadata": {
      "needs_background": "light"
     },
     "output_type": "display_data"
    },
    {
     "name": "stdout",
     "output_type": "stream",
     "text": [
      "Accuracy 4: 0.85\n",
      "Standard Deviation 3: 0.7068964266433873\n",
      "Stopping training after epoch 294 due to small change in cost.\n"
     ]
    },
    {
     "data": {
      "image/png": "[encoded data removed]",
      "text/plain": [
       "<Figure size 432x288 with 1 Axes>"
      ]
     },
     "metadata": {
      "needs_background": "light"
     },
     "output_type": "display_data"
    },
    {
     "name": "stdout",
     "output_type": "stream",
     "text": [
      "Accuracy 5: 0.83\n",
      "Standard Deviation 4: 0.752548713197147\n",
      "Average Accuracy: 0.87\n"
     ]
    }
   ],
   "source": [
    "features = data.iloc[:, 1:]\n",
    "\n",
    "# Apply normalization using StandardScaler\n",
    "\n",
    "scaler = StandardScaler()\n",
    "normalized_features = scaler.fit_transform(features)\n",
    "\n",
    "# Create a new DataFrame with the normalized features\n",
    "normalized_data = pd.DataFrame(normalized_features, columns=features.columns)\n",
    "#Adding back the first column to the normalized data\n",
    "data_normalized = pd.concat([data.iloc[:, 0], normalized_data], axis=1)\n",
    "data = normalized_data\n",
    "data = shuffle(normalized_data, random_state=42)\n",
    "\n",
    "# Separate the labels (y) and features (X) \n",
    "\n",
    "X = data.iloc[:, 1:]  #  the remaining columns are the features\n",
    "y = np.where(data.iloc[:, 0].values !=3, -1, 1) #  the first column contains the labels , need to change the lables to -1 ,1\n",
    "\n",
    "#cross - validation five times to see the algorithm working on different parts of the text, make sure answer isn't \"by luck\"\n",
    "\n",
    "n_repeats = 5\n",
    "test_size = 0.2\n",
    "n_splits = int(1 / test_size)\n",
    "accuracies = []\n",
    "\n",
    "\n",
    "for i in range(n_repeats):\n",
    "\n",
    "    # Split the data into training and test sets\n",
    "    split_index = int((i % n_splits) * len(X) * test_size)\n",
    "    X_test = X[split_index:split_index + int(len(X) * test_size)]\n",
    "    y_test = y[split_index:split_index + int(len(X) * test_size)]\n",
    "    X_train = np.concatenate([X[:split_index], X[split_index + int(len(X) * test_size):]])\n",
    "    y_train = np.concatenate([y[:split_index], y[split_index + int(len(X) * test_size):]])\n",
    "\n",
    "    # Training and predicting using the Adaline class above\n",
    "    ada = Adaline(lr=0.0001, n_epochs=1000, random_state=1)\n",
    "    ada.fit(X_train, y_train)\n",
    "    y_pred = ada.predict(X_test)\n",
    "\n",
    "\n",
    "\n",
    "    # Printing the STD and Accuracy\n",
    "    accuracy = (y_pred == y_test).mean()\n",
    "    accuracies.append(accuracy)\n",
    "    print(f'Accuracy {i+1}: {accuracy:.2f}')\n",
    "    std_dev = np.std(y_pred)\n",
    "    print(f'Standard Deviation {i}: {std_dev}')\n",
    "\n",
    "\n",
    "\n",
    "# Compute and print the average accuracy over all repetitions\n",
    "\n",
    "average_accuracy = np.mean(accuracies)\n",
    "print(f'Average Accuracy: {average_accuracy:.2f}')"
   ]
  },
  {
   "cell_type": "code",
   "execution_count": null,
   "id": "ffdc0851",
   "metadata": {},
   "outputs": [],
   "source": []
  }
 ],
 "metadata": {
  "kernelspec": {
   "display_name": "Python 3",
   "language": "python",
   "name": "python3"
  },
  "language_info": {
   "codemirror_mode": {
    "name": "ipython",
    "version": 3
   },
   "file_extension": ".py",
   "mimetype": "text/x-python",
   "name": "python",
   "nbconvert_exporter": "python",
   "pygments_lexer": "ipython3",
   "version": "3.8.8"
  }
 },
 "nbformat": 4,
 "nbformat_minor": 5
}
