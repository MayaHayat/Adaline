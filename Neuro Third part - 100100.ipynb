{
 "cells": [
  {
   "cell_type": "markdown",
   "id": "671fc71f",
   "metadata": {},
   "source": [
    "# Feed Forward Neural Network\n",
    "\n",
    "By: Avia Oren & Maya Hayat\n",
    "\n",
    "#### Classification Task\n",
    "\n",
    "Classifying the Hebrew letters \"ב\" \"מ\" \"ל\" using the \"Feed forward neural network\""
   ]
  },
  {
   "cell_type": "markdown",
   "id": "855617e8",
   "metadata": {},
   "source": [
    "### Imports"
   ]
  },
  {
   "cell_type": "code",
   "execution_count": 1,
   "id": "71f12ef1",
   "metadata": {},
   "outputs": [],
   "source": [
    "import pandas as pd\n",
    "import numpy as np\n",
    "from sklearn.model_selection import train_test_split\n",
    "from sklearn.preprocessing import StandardScaler\n",
    "from sklearn.utils import shuffle\n",
    "import matplotlib.pyplot as plt\n",
    "from sklearn.neural_network import MLPClassifier"
   ]
  },
  {
   "cell_type": "markdown",
   "id": "955f34b0",
   "metadata": {},
   "source": [
    "### Reading data "
   ]
  },
  {
   "cell_type": "code",
   "execution_count": 13,
   "id": "a65c8451",
   "metadata": {},
   "outputs": [],
   "source": [
    "ogdata = pd.read_csv('C:/Users/Maya/OneDrive/Desktop/vectors.csv', sep=',')"
   ]
  },
  {
   "cell_type": "code",
   "execution_count": 14,
   "id": "0ac770c0",
   "metadata": {},
   "outputs": [
    {
     "data": {
      "text/html": [
       "<div>\n",
       "<style scoped>\n",
       "    .dataframe tbody tr th:only-of-type {\n",
       "        vertical-align: middle;\n",
       "    }\n",
       "\n",
       "    .dataframe tbody tr th {\n",
       "        vertical-align: top;\n",
       "    }\n",
       "\n",
       "    .dataframe thead th {\n",
       "        text-align: right;\n",
       "    }\n",
       "</style>\n",
       "<table border=\"1\" class=\"dataframe\">\n",
       "  <thead>\n",
       "    <tr style=\"text-align: right;\">\n",
       "      <th></th>\n",
       "      <th>1</th>\n",
       "      <th>-1</th>\n",
       "      <th>-1.1</th>\n",
       "      <th>-1.2</th>\n",
       "      <th>-1.3</th>\n",
       "      <th>-1.4</th>\n",
       "      <th>-1.5</th>\n",
       "      <th>-1.6</th>\n",
       "      <th>-1.7</th>\n",
       "      <th>-1.8</th>\n",
       "      <th>...</th>\n",
       "      <th>-1.63</th>\n",
       "      <th>-1.64</th>\n",
       "      <th>-1.65</th>\n",
       "      <th>-1.66</th>\n",
       "      <th>-1.67</th>\n",
       "      <th>-1.68</th>\n",
       "      <th>-1.69</th>\n",
       "      <th>-1.70</th>\n",
       "      <th>-1.71</th>\n",
       "      <th>-1.72</th>\n",
       "    </tr>\n",
       "  </thead>\n",
       "  <tbody>\n",
       "    <tr>\n",
       "      <th>0</th>\n",
       "      <td>1</td>\n",
       "      <td>-1</td>\n",
       "      <td>-1</td>\n",
       "      <td>-1</td>\n",
       "      <td>-1</td>\n",
       "      <td>1</td>\n",
       "      <td>1</td>\n",
       "      <td>1</td>\n",
       "      <td>1</td>\n",
       "      <td>-1</td>\n",
       "      <td>...</td>\n",
       "      <td>-1</td>\n",
       "      <td>-1</td>\n",
       "      <td>-1</td>\n",
       "      <td>-1</td>\n",
       "      <td>-1</td>\n",
       "      <td>-1</td>\n",
       "      <td>-1</td>\n",
       "      <td>-1</td>\n",
       "      <td>-1</td>\n",
       "      <td>-1</td>\n",
       "    </tr>\n",
       "    <tr>\n",
       "      <th>1</th>\n",
       "      <td>1</td>\n",
       "      <td>-1</td>\n",
       "      <td>-1</td>\n",
       "      <td>-1</td>\n",
       "      <td>-1</td>\n",
       "      <td>-1</td>\n",
       "      <td>-1</td>\n",
       "      <td>-1</td>\n",
       "      <td>-1</td>\n",
       "      <td>-1</td>\n",
       "      <td>...</td>\n",
       "      <td>-1</td>\n",
       "      <td>-1</td>\n",
       "      <td>-1</td>\n",
       "      <td>-1</td>\n",
       "      <td>-1</td>\n",
       "      <td>-1</td>\n",
       "      <td>-1</td>\n",
       "      <td>-1</td>\n",
       "      <td>-1</td>\n",
       "      <td>-1</td>\n",
       "    </tr>\n",
       "    <tr>\n",
       "      <th>2</th>\n",
       "      <td>1</td>\n",
       "      <td>-1</td>\n",
       "      <td>-1</td>\n",
       "      <td>-1</td>\n",
       "      <td>-1</td>\n",
       "      <td>-1</td>\n",
       "      <td>1</td>\n",
       "      <td>1</td>\n",
       "      <td>-1</td>\n",
       "      <td>-1</td>\n",
       "      <td>...</td>\n",
       "      <td>-1</td>\n",
       "      <td>1</td>\n",
       "      <td>-1</td>\n",
       "      <td>-1</td>\n",
       "      <td>-1</td>\n",
       "      <td>1</td>\n",
       "      <td>1</td>\n",
       "      <td>-1</td>\n",
       "      <td>-1</td>\n",
       "      <td>-1</td>\n",
       "    </tr>\n",
       "    <tr>\n",
       "      <th>3</th>\n",
       "      <td>1</td>\n",
       "      <td>-1</td>\n",
       "      <td>-1</td>\n",
       "      <td>-1</td>\n",
       "      <td>-1</td>\n",
       "      <td>-1</td>\n",
       "      <td>-1</td>\n",
       "      <td>-1</td>\n",
       "      <td>-1</td>\n",
       "      <td>-1</td>\n",
       "      <td>...</td>\n",
       "      <td>-1</td>\n",
       "      <td>-1</td>\n",
       "      <td>-1</td>\n",
       "      <td>-1</td>\n",
       "      <td>-1</td>\n",
       "      <td>-1</td>\n",
       "      <td>-1</td>\n",
       "      <td>-1</td>\n",
       "      <td>-1</td>\n",
       "      <td>-1</td>\n",
       "    </tr>\n",
       "    <tr>\n",
       "      <th>4</th>\n",
       "      <td>1</td>\n",
       "      <td>-1</td>\n",
       "      <td>-1</td>\n",
       "      <td>-1</td>\n",
       "      <td>-1</td>\n",
       "      <td>-1</td>\n",
       "      <td>-1</td>\n",
       "      <td>-1</td>\n",
       "      <td>-1</td>\n",
       "      <td>-1</td>\n",
       "      <td>...</td>\n",
       "      <td>-1</td>\n",
       "      <td>-1</td>\n",
       "      <td>-1</td>\n",
       "      <td>-1</td>\n",
       "      <td>-1</td>\n",
       "      <td>-1</td>\n",
       "      <td>-1</td>\n",
       "      <td>-1</td>\n",
       "      <td>-1</td>\n",
       "      <td>-1</td>\n",
       "    </tr>\n",
       "    <tr>\n",
       "      <th>...</th>\n",
       "      <td>...</td>\n",
       "      <td>...</td>\n",
       "      <td>...</td>\n",
       "      <td>...</td>\n",
       "      <td>...</td>\n",
       "      <td>...</td>\n",
       "      <td>...</td>\n",
       "      <td>...</td>\n",
       "      <td>...</td>\n",
       "      <td>...</td>\n",
       "      <td>...</td>\n",
       "      <td>...</td>\n",
       "      <td>...</td>\n",
       "      <td>...</td>\n",
       "      <td>...</td>\n",
       "      <td>...</td>\n",
       "      <td>...</td>\n",
       "      <td>...</td>\n",
       "      <td>...</td>\n",
       "      <td>...</td>\n",
       "      <td>...</td>\n",
       "    </tr>\n",
       "    <tr>\n",
       "      <th>628</th>\n",
       "      <td>3</td>\n",
       "      <td>-1</td>\n",
       "      <td>-1</td>\n",
       "      <td>-1</td>\n",
       "      <td>-1</td>\n",
       "      <td>-1</td>\n",
       "      <td>-1</td>\n",
       "      <td>-1</td>\n",
       "      <td>-1</td>\n",
       "      <td>1</td>\n",
       "      <td>...</td>\n",
       "      <td>-1</td>\n",
       "      <td>-1</td>\n",
       "      <td>-1</td>\n",
       "      <td>1</td>\n",
       "      <td>-1</td>\n",
       "      <td>-1</td>\n",
       "      <td>-1</td>\n",
       "      <td>-1</td>\n",
       "      <td>-1</td>\n",
       "      <td>-1</td>\n",
       "    </tr>\n",
       "    <tr>\n",
       "      <th>629</th>\n",
       "      <td>3</td>\n",
       "      <td>-1</td>\n",
       "      <td>-1</td>\n",
       "      <td>-1</td>\n",
       "      <td>-1</td>\n",
       "      <td>-1</td>\n",
       "      <td>-1</td>\n",
       "      <td>-1</td>\n",
       "      <td>-1</td>\n",
       "      <td>1</td>\n",
       "      <td>...</td>\n",
       "      <td>-1</td>\n",
       "      <td>1</td>\n",
       "      <td>-1</td>\n",
       "      <td>-1</td>\n",
       "      <td>-1</td>\n",
       "      <td>-1</td>\n",
       "      <td>-1</td>\n",
       "      <td>-1</td>\n",
       "      <td>-1</td>\n",
       "      <td>-1</td>\n",
       "    </tr>\n",
       "    <tr>\n",
       "      <th>630</th>\n",
       "      <td>3</td>\n",
       "      <td>-1</td>\n",
       "      <td>-1</td>\n",
       "      <td>-1</td>\n",
       "      <td>-1</td>\n",
       "      <td>-1</td>\n",
       "      <td>-1</td>\n",
       "      <td>-1</td>\n",
       "      <td>-1</td>\n",
       "      <td>-1</td>\n",
       "      <td>...</td>\n",
       "      <td>1</td>\n",
       "      <td>-1</td>\n",
       "      <td>-1</td>\n",
       "      <td>-1</td>\n",
       "      <td>-1</td>\n",
       "      <td>-1</td>\n",
       "      <td>-1</td>\n",
       "      <td>-1</td>\n",
       "      <td>-1</td>\n",
       "      <td>-1</td>\n",
       "    </tr>\n",
       "    <tr>\n",
       "      <th>631</th>\n",
       "      <td>3</td>\n",
       "      <td>-1</td>\n",
       "      <td>-1</td>\n",
       "      <td>-1</td>\n",
       "      <td>-1</td>\n",
       "      <td>-1</td>\n",
       "      <td>-1</td>\n",
       "      <td>-1</td>\n",
       "      <td>-1</td>\n",
       "      <td>-1</td>\n",
       "      <td>...</td>\n",
       "      <td>-1</td>\n",
       "      <td>1</td>\n",
       "      <td>-1</td>\n",
       "      <td>-1</td>\n",
       "      <td>-1</td>\n",
       "      <td>-1</td>\n",
       "      <td>-1</td>\n",
       "      <td>-1</td>\n",
       "      <td>-1</td>\n",
       "      <td>-1</td>\n",
       "    </tr>\n",
       "    <tr>\n",
       "      <th>632</th>\n",
       "      <td>3</td>\n",
       "      <td>-1</td>\n",
       "      <td>-1</td>\n",
       "      <td>1</td>\n",
       "      <td>1</td>\n",
       "      <td>-1</td>\n",
       "      <td>-1</td>\n",
       "      <td>-1</td>\n",
       "      <td>-1</td>\n",
       "      <td>-1</td>\n",
       "      <td>...</td>\n",
       "      <td>1</td>\n",
       "      <td>-1</td>\n",
       "      <td>-1</td>\n",
       "      <td>-1</td>\n",
       "      <td>-1</td>\n",
       "      <td>-1</td>\n",
       "      <td>-1</td>\n",
       "      <td>1</td>\n",
       "      <td>-1</td>\n",
       "      <td>-1</td>\n",
       "    </tr>\n",
       "  </tbody>\n",
       "</table>\n",
       "<p>633 rows × 101 columns</p>\n",
       "</div>"
      ],
      "text/plain": [
       "     1  -1  -1.1  -1.2  -1.3  -1.4  -1.5  -1.6  -1.7  -1.8  ...  -1.63  -1.64  \\\n",
       "0    1  -1    -1    -1    -1     1     1     1     1    -1  ...     -1     -1   \n",
       "1    1  -1    -1    -1    -1    -1    -1    -1    -1    -1  ...     -1     -1   \n",
       "2    1  -1    -1    -1    -1    -1     1     1    -1    -1  ...     -1      1   \n",
       "3    1  -1    -1    -1    -1    -1    -1    -1    -1    -1  ...     -1     -1   \n",
       "4    1  -1    -1    -1    -1    -1    -1    -1    -1    -1  ...     -1     -1   \n",
       "..  ..  ..   ...   ...   ...   ...   ...   ...   ...   ...  ...    ...    ...   \n",
       "628  3  -1    -1    -1    -1    -1    -1    -1    -1     1  ...     -1     -1   \n",
       "629  3  -1    -1    -1    -1    -1    -1    -1    -1     1  ...     -1      1   \n",
       "630  3  -1    -1    -1    -1    -1    -1    -1    -1    -1  ...      1     -1   \n",
       "631  3  -1    -1    -1    -1    -1    -1    -1    -1    -1  ...     -1      1   \n",
       "632  3  -1    -1     1     1    -1    -1    -1    -1    -1  ...      1     -1   \n",
       "\n",
       "     -1.65  -1.66  -1.67  -1.68  -1.69  -1.70  -1.71  -1.72  \n",
       "0       -1     -1     -1     -1     -1     -1     -1     -1  \n",
       "1       -1     -1     -1     -1     -1     -1     -1     -1  \n",
       "2       -1     -1     -1      1      1     -1     -1     -1  \n",
       "3       -1     -1     -1     -1     -1     -1     -1     -1  \n",
       "4       -1     -1     -1     -1     -1     -1     -1     -1  \n",
       "..     ...    ...    ...    ...    ...    ...    ...    ...  \n",
       "628     -1      1     -1     -1     -1     -1     -1     -1  \n",
       "629     -1     -1     -1     -1     -1     -1     -1     -1  \n",
       "630     -1     -1     -1     -1     -1     -1     -1     -1  \n",
       "631     -1     -1     -1     -1     -1     -1     -1     -1  \n",
       "632     -1     -1     -1     -1     -1      1     -1     -1  \n",
       "\n",
       "[633 rows x 101 columns]"
      ]
     },
     "execution_count": 14,
     "metadata": {},
     "output_type": "execute_result"
    }
   ],
   "source": [
    "ogdata"
   ]
  },
  {
   "cell_type": "code",
   "execution_count": 15,
   "id": "309075b7",
   "metadata": {},
   "outputs": [],
   "source": [
    "ogdata = ogdata[~ogdata.iloc[:, 1:].apply(lambda row: all(val == -1 for val in row), axis=1)]\n",
    "ogdata = ogdata[~ogdata.iloc[:, 1:].apply(lambda row: all(val == 1 for val in row), axis=1)]"
   ]
  },
  {
   "cell_type": "code",
   "execution_count": 16,
   "id": "8e2753f6",
   "metadata": {},
   "outputs": [],
   "source": [
    "data = ogdata"
   ]
  },
  {
   "cell_type": "code",
   "execution_count": 17,
   "id": "3ffd07be",
   "metadata": {},
   "outputs": [
    {
     "data": {
      "text/html": [
       "<div>\n",
       "<style scoped>\n",
       "    .dataframe tbody tr th:only-of-type {\n",
       "        vertical-align: middle;\n",
       "    }\n",
       "\n",
       "    .dataframe tbody tr th {\n",
       "        vertical-align: top;\n",
       "    }\n",
       "\n",
       "    .dataframe thead th {\n",
       "        text-align: right;\n",
       "    }\n",
       "</style>\n",
       "<table border=\"1\" class=\"dataframe\">\n",
       "  <thead>\n",
       "    <tr style=\"text-align: right;\">\n",
       "      <th></th>\n",
       "      <th>1</th>\n",
       "      <th>-1</th>\n",
       "      <th>-1.1</th>\n",
       "      <th>-1.2</th>\n",
       "      <th>-1.3</th>\n",
       "      <th>-1.4</th>\n",
       "      <th>-1.5</th>\n",
       "      <th>-1.6</th>\n",
       "      <th>-1.7</th>\n",
       "      <th>-1.8</th>\n",
       "      <th>...</th>\n",
       "      <th>-1.63</th>\n",
       "      <th>-1.64</th>\n",
       "      <th>-1.65</th>\n",
       "      <th>-1.66</th>\n",
       "      <th>-1.67</th>\n",
       "      <th>-1.68</th>\n",
       "      <th>-1.69</th>\n",
       "      <th>-1.70</th>\n",
       "      <th>-1.71</th>\n",
       "      <th>-1.72</th>\n",
       "    </tr>\n",
       "  </thead>\n",
       "  <tbody>\n",
       "    <tr>\n",
       "      <th>0</th>\n",
       "      <td>1</td>\n",
       "      <td>-1</td>\n",
       "      <td>-1</td>\n",
       "      <td>-1</td>\n",
       "      <td>-1</td>\n",
       "      <td>1</td>\n",
       "      <td>1</td>\n",
       "      <td>1</td>\n",
       "      <td>1</td>\n",
       "      <td>-1</td>\n",
       "      <td>...</td>\n",
       "      <td>-1</td>\n",
       "      <td>-1</td>\n",
       "      <td>-1</td>\n",
       "      <td>-1</td>\n",
       "      <td>-1</td>\n",
       "      <td>-1</td>\n",
       "      <td>-1</td>\n",
       "      <td>-1</td>\n",
       "      <td>-1</td>\n",
       "      <td>-1</td>\n",
       "    </tr>\n",
       "    <tr>\n",
       "      <th>1</th>\n",
       "      <td>1</td>\n",
       "      <td>-1</td>\n",
       "      <td>-1</td>\n",
       "      <td>-1</td>\n",
       "      <td>-1</td>\n",
       "      <td>-1</td>\n",
       "      <td>-1</td>\n",
       "      <td>-1</td>\n",
       "      <td>-1</td>\n",
       "      <td>-1</td>\n",
       "      <td>...</td>\n",
       "      <td>-1</td>\n",
       "      <td>-1</td>\n",
       "      <td>-1</td>\n",
       "      <td>-1</td>\n",
       "      <td>-1</td>\n",
       "      <td>-1</td>\n",
       "      <td>-1</td>\n",
       "      <td>-1</td>\n",
       "      <td>-1</td>\n",
       "      <td>-1</td>\n",
       "    </tr>\n",
       "    <tr>\n",
       "      <th>2</th>\n",
       "      <td>1</td>\n",
       "      <td>-1</td>\n",
       "      <td>-1</td>\n",
       "      <td>-1</td>\n",
       "      <td>-1</td>\n",
       "      <td>-1</td>\n",
       "      <td>1</td>\n",
       "      <td>1</td>\n",
       "      <td>-1</td>\n",
       "      <td>-1</td>\n",
       "      <td>...</td>\n",
       "      <td>-1</td>\n",
       "      <td>1</td>\n",
       "      <td>-1</td>\n",
       "      <td>-1</td>\n",
       "      <td>-1</td>\n",
       "      <td>1</td>\n",
       "      <td>1</td>\n",
       "      <td>-1</td>\n",
       "      <td>-1</td>\n",
       "      <td>-1</td>\n",
       "    </tr>\n",
       "    <tr>\n",
       "      <th>3</th>\n",
       "      <td>1</td>\n",
       "      <td>-1</td>\n",
       "      <td>-1</td>\n",
       "      <td>-1</td>\n",
       "      <td>-1</td>\n",
       "      <td>-1</td>\n",
       "      <td>-1</td>\n",
       "      <td>-1</td>\n",
       "      <td>-1</td>\n",
       "      <td>-1</td>\n",
       "      <td>...</td>\n",
       "      <td>-1</td>\n",
       "      <td>-1</td>\n",
       "      <td>-1</td>\n",
       "      <td>-1</td>\n",
       "      <td>-1</td>\n",
       "      <td>-1</td>\n",
       "      <td>-1</td>\n",
       "      <td>-1</td>\n",
       "      <td>-1</td>\n",
       "      <td>-1</td>\n",
       "    </tr>\n",
       "    <tr>\n",
       "      <th>4</th>\n",
       "      <td>1</td>\n",
       "      <td>-1</td>\n",
       "      <td>-1</td>\n",
       "      <td>-1</td>\n",
       "      <td>-1</td>\n",
       "      <td>-1</td>\n",
       "      <td>-1</td>\n",
       "      <td>-1</td>\n",
       "      <td>-1</td>\n",
       "      <td>-1</td>\n",
       "      <td>...</td>\n",
       "      <td>-1</td>\n",
       "      <td>-1</td>\n",
       "      <td>-1</td>\n",
       "      <td>-1</td>\n",
       "      <td>-1</td>\n",
       "      <td>-1</td>\n",
       "      <td>-1</td>\n",
       "      <td>-1</td>\n",
       "      <td>-1</td>\n",
       "      <td>-1</td>\n",
       "    </tr>\n",
       "    <tr>\n",
       "      <th>...</th>\n",
       "      <td>...</td>\n",
       "      <td>...</td>\n",
       "      <td>...</td>\n",
       "      <td>...</td>\n",
       "      <td>...</td>\n",
       "      <td>...</td>\n",
       "      <td>...</td>\n",
       "      <td>...</td>\n",
       "      <td>...</td>\n",
       "      <td>...</td>\n",
       "      <td>...</td>\n",
       "      <td>...</td>\n",
       "      <td>...</td>\n",
       "      <td>...</td>\n",
       "      <td>...</td>\n",
       "      <td>...</td>\n",
       "      <td>...</td>\n",
       "      <td>...</td>\n",
       "      <td>...</td>\n",
       "      <td>...</td>\n",
       "      <td>...</td>\n",
       "    </tr>\n",
       "    <tr>\n",
       "      <th>628</th>\n",
       "      <td>3</td>\n",
       "      <td>-1</td>\n",
       "      <td>-1</td>\n",
       "      <td>-1</td>\n",
       "      <td>-1</td>\n",
       "      <td>-1</td>\n",
       "      <td>-1</td>\n",
       "      <td>-1</td>\n",
       "      <td>-1</td>\n",
       "      <td>1</td>\n",
       "      <td>...</td>\n",
       "      <td>-1</td>\n",
       "      <td>-1</td>\n",
       "      <td>-1</td>\n",
       "      <td>1</td>\n",
       "      <td>-1</td>\n",
       "      <td>-1</td>\n",
       "      <td>-1</td>\n",
       "      <td>-1</td>\n",
       "      <td>-1</td>\n",
       "      <td>-1</td>\n",
       "    </tr>\n",
       "    <tr>\n",
       "      <th>629</th>\n",
       "      <td>3</td>\n",
       "      <td>-1</td>\n",
       "      <td>-1</td>\n",
       "      <td>-1</td>\n",
       "      <td>-1</td>\n",
       "      <td>-1</td>\n",
       "      <td>-1</td>\n",
       "      <td>-1</td>\n",
       "      <td>-1</td>\n",
       "      <td>1</td>\n",
       "      <td>...</td>\n",
       "      <td>-1</td>\n",
       "      <td>1</td>\n",
       "      <td>-1</td>\n",
       "      <td>-1</td>\n",
       "      <td>-1</td>\n",
       "      <td>-1</td>\n",
       "      <td>-1</td>\n",
       "      <td>-1</td>\n",
       "      <td>-1</td>\n",
       "      <td>-1</td>\n",
       "    </tr>\n",
       "    <tr>\n",
       "      <th>630</th>\n",
       "      <td>3</td>\n",
       "      <td>-1</td>\n",
       "      <td>-1</td>\n",
       "      <td>-1</td>\n",
       "      <td>-1</td>\n",
       "      <td>-1</td>\n",
       "      <td>-1</td>\n",
       "      <td>-1</td>\n",
       "      <td>-1</td>\n",
       "      <td>-1</td>\n",
       "      <td>...</td>\n",
       "      <td>1</td>\n",
       "      <td>-1</td>\n",
       "      <td>-1</td>\n",
       "      <td>-1</td>\n",
       "      <td>-1</td>\n",
       "      <td>-1</td>\n",
       "      <td>-1</td>\n",
       "      <td>-1</td>\n",
       "      <td>-1</td>\n",
       "      <td>-1</td>\n",
       "    </tr>\n",
       "    <tr>\n",
       "      <th>631</th>\n",
       "      <td>3</td>\n",
       "      <td>-1</td>\n",
       "      <td>-1</td>\n",
       "      <td>-1</td>\n",
       "      <td>-1</td>\n",
       "      <td>-1</td>\n",
       "      <td>-1</td>\n",
       "      <td>-1</td>\n",
       "      <td>-1</td>\n",
       "      <td>-1</td>\n",
       "      <td>...</td>\n",
       "      <td>-1</td>\n",
       "      <td>1</td>\n",
       "      <td>-1</td>\n",
       "      <td>-1</td>\n",
       "      <td>-1</td>\n",
       "      <td>-1</td>\n",
       "      <td>-1</td>\n",
       "      <td>-1</td>\n",
       "      <td>-1</td>\n",
       "      <td>-1</td>\n",
       "    </tr>\n",
       "    <tr>\n",
       "      <th>632</th>\n",
       "      <td>3</td>\n",
       "      <td>-1</td>\n",
       "      <td>-1</td>\n",
       "      <td>1</td>\n",
       "      <td>1</td>\n",
       "      <td>-1</td>\n",
       "      <td>-1</td>\n",
       "      <td>-1</td>\n",
       "      <td>-1</td>\n",
       "      <td>-1</td>\n",
       "      <td>...</td>\n",
       "      <td>1</td>\n",
       "      <td>-1</td>\n",
       "      <td>-1</td>\n",
       "      <td>-1</td>\n",
       "      <td>-1</td>\n",
       "      <td>-1</td>\n",
       "      <td>-1</td>\n",
       "      <td>1</td>\n",
       "      <td>-1</td>\n",
       "      <td>-1</td>\n",
       "    </tr>\n",
       "  </tbody>\n",
       "</table>\n",
       "<p>624 rows × 101 columns</p>\n",
       "</div>"
      ],
      "text/plain": [
       "     1  -1  -1.1  -1.2  -1.3  -1.4  -1.5  -1.6  -1.7  -1.8  ...  -1.63  -1.64  \\\n",
       "0    1  -1    -1    -1    -1     1     1     1     1    -1  ...     -1     -1   \n",
       "1    1  -1    -1    -1    -1    -1    -1    -1    -1    -1  ...     -1     -1   \n",
       "2    1  -1    -1    -1    -1    -1     1     1    -1    -1  ...     -1      1   \n",
       "3    1  -1    -1    -1    -1    -1    -1    -1    -1    -1  ...     -1     -1   \n",
       "4    1  -1    -1    -1    -1    -1    -1    -1    -1    -1  ...     -1     -1   \n",
       "..  ..  ..   ...   ...   ...   ...   ...   ...   ...   ...  ...    ...    ...   \n",
       "628  3  -1    -1    -1    -1    -1    -1    -1    -1     1  ...     -1     -1   \n",
       "629  3  -1    -1    -1    -1    -1    -1    -1    -1     1  ...     -1      1   \n",
       "630  3  -1    -1    -1    -1    -1    -1    -1    -1    -1  ...      1     -1   \n",
       "631  3  -1    -1    -1    -1    -1    -1    -1    -1    -1  ...     -1      1   \n",
       "632  3  -1    -1     1     1    -1    -1    -1    -1    -1  ...      1     -1   \n",
       "\n",
       "     -1.65  -1.66  -1.67  -1.68  -1.69  -1.70  -1.71  -1.72  \n",
       "0       -1     -1     -1     -1     -1     -1     -1     -1  \n",
       "1       -1     -1     -1     -1     -1     -1     -1     -1  \n",
       "2       -1     -1     -1      1      1     -1     -1     -1  \n",
       "3       -1     -1     -1     -1     -1     -1     -1     -1  \n",
       "4       -1     -1     -1     -1     -1     -1     -1     -1  \n",
       "..     ...    ...    ...    ...    ...    ...    ...    ...  \n",
       "628     -1      1     -1     -1     -1     -1     -1     -1  \n",
       "629     -1     -1     -1     -1     -1     -1     -1     -1  \n",
       "630     -1     -1     -1     -1     -1     -1     -1     -1  \n",
       "631     -1     -1     -1     -1     -1     -1     -1     -1  \n",
       "632     -1     -1     -1     -1     -1      1     -1     -1  \n",
       "\n",
       "[624 rows x 101 columns]"
      ]
     },
     "execution_count": 17,
     "metadata": {},
     "output_type": "execute_result"
    }
   ],
   "source": [
    "data"
   ]
  },
  {
   "cell_type": "markdown",
   "id": "1461de64",
   "metadata": {},
   "source": [
    "## Comparing between \"Bet\" & \"Lamed\""
   ]
  },
  {
   "cell_type": "code",
   "execution_count": 18,
   "id": "f860eb4f",
   "metadata": {},
   "outputs": [],
   "source": [
    "data = ogdata[ogdata['1'] != 3] #Eliminating \"Mem\" denoted by 3"
   ]
  },
  {
   "cell_type": "code",
   "execution_count": 19,
   "id": "dc4bfaf9",
   "metadata": {},
   "outputs": [
    {
     "name": "stdout",
     "output_type": "stream",
     "text": [
      "Accuracy 1: 0.95\n"
     ]
    },
    {
     "data": {
      "image/png": "[encoded data removed]",
      "text/plain": [
       "<Figure size 432x288 with 1 Axes>"
      ]
     },
     "metadata": {
      "needs_background": "light"
     },
     "output_type": "display_data"
    },
    {
     "name": "stdout",
     "output_type": "stream",
     "text": [
      "Accuracy 2: 0.92\n"
     ]
    },
    {
     "data": {
      "image/png": "[encoded data removed]",
      "text/plain": [
       "<Figure size 432x288 with 1 Axes>"
      ]
     },
     "metadata": {
      "needs_background": "light"
     },
     "output_type": "display_data"
    },
    {
     "name": "stdout",
     "output_type": "stream",
     "text": [
      "Accuracy 3: 0.93\n"
     ]
    },
    {
     "data": {
      "image/png": "[encoded data removed]",
      "text/plain": [
       "<Figure size 432x288 with 1 Axes>"
      ]
     },
     "metadata": {
      "needs_background": "light"
     },
     "output_type": "display_data"
    },
    {
     "name": "stdout",
     "output_type": "stream",
     "text": [
      "Accuracy 4: 0.92\n"
     ]
    },
    {
     "data": {
      "image/png": "[encoded data removed]",
      "text/plain": [
       "<Figure size 432x288 with 1 Axes>"
      ]
     },
     "metadata": {
      "needs_background": "light"
     },
     "output_type": "display_data"
    },
    {
     "name": "stdout",
     "output_type": "stream",
     "text": [
      "Accuracy 5: 0.87\n"
     ]
    },
    {
     "data": {
      "image/png": "[encoded data removed]",
      "text/plain": [
       "<Figure size 432x288 with 1 Axes>"
      ]
     },
     "metadata": {
      "needs_background": "light"
     },
     "output_type": "display_data"
    },
    {
     "name": "stdout",
     "output_type": "stream",
     "text": [
      "Average Accuracy: 91.57%\n",
      "Standard Deviation: 3.00%\n"
     ]
    }
   ],
   "source": [
    "# Shuffle the data\n",
    "data = shuffle(data, random_state=42)\n",
    "\n",
    "# Separate the labels (y) and features (X)\n",
    "X = data.iloc[:, 1:]  # The remaining columns are the features\n",
    "y = np.where(data.iloc[:, 0].values != 2, -1, 1)  # The first column contains the labels, changing the labels to -1, 1\n",
    "\n",
    "n_repeats = 5\n",
    "test_size = 0.2\n",
    "n_splits = int(1 / test_size)\n",
    "accuracies = []\n",
    "\n",
    "for i in range(n_repeats):\n",
    "    # Split the data into training and test sets\n",
    "    split_index = int((i % n_splits) * len(X) * test_size)\n",
    "    X_test = X[split_index:split_index + int(len(X) * test_size)]\n",
    "    y_test = y[split_index:split_index + int(len(X) * test_size)]\n",
    "    X_train = np.concatenate([X[:split_index], X[split_index + int(len(X) * test_size):]])\n",
    "    y_train = np.concatenate([y[:split_index], y[split_index + int(len(X) * test_size):]])\n",
    "\n",
    "    \n",
    "    mlp = MLPClassifier(hidden_layer_sizes=(100, 100), activation='relu', solver='adam', max_iter=500)\n",
    "    \n",
    "    # Train the model\n",
    "    history = mlp.fit(X_train, y_train)\n",
    "    \n",
    "    # Evaluate the model on the test set\n",
    "    accuracy = mlp.score(X_test, y_test)\n",
    "    accuracies.append(accuracy)\n",
    "    print(f'Accuracy {i+1}: {accuracy:.2f}')\n",
    "    \n",
    "    plt.plot(history.loss_curve_)\n",
    "    plt.title('Loss Curve')\n",
    "    plt.xlabel('Epoch')\n",
    "    plt.ylabel('Loss')\n",
    "    plt.show()\n",
    "    \n",
    "\n",
    "    \n",
    "std_dev = np.std(accuracies) / np.mean(accuracies) * 100\n",
    "average_accuracy = np.mean(accuracies) * 100\n",
    "print(f'Average Accuracy: {average_accuracy:.2f}%')\n",
    "print(f'Standard Deviation: {std_dev:.2f}%')"
   ]
  },
  {
   "cell_type": "markdown",
   "id": "13ab4bdc",
   "metadata": {},
   "source": [
    "## Comparing between \"Bet\" & \"Mem\""
   ]
  },
  {
   "cell_type": "code",
   "execution_count": 20,
   "id": "af4483a9",
   "metadata": {},
   "outputs": [],
   "source": [
    "data = ogdata[ogdata['1'] != 2] #Eliminating \"Lamed\" denoted by 2"
   ]
  },
  {
   "cell_type": "code",
   "execution_count": 21,
   "id": "59066612",
   "metadata": {},
   "outputs": [
    {
     "name": "stdout",
     "output_type": "stream",
     "text": [
      "Accuracy 1: 0.90\n"
     ]
    },
    {
     "data": {
      "image/png": "[encoded data removed]",
      "text/plain": [
       "<Figure size 432x288 with 1 Axes>"
      ]
     },
     "metadata": {
      "needs_background": "light"
     },
     "output_type": "display_data"
    },
    {
     "name": "stdout",
     "output_type": "stream",
     "text": [
      "Accuracy 2: 0.92\n"
     ]
    },
    {
     "data": {
      "image/png": "[encoded data removed]",
      "text/plain": [
       "<Figure size 432x288 with 1 Axes>"
      ]
     },
     "metadata": {
      "needs_background": "light"
     },
     "output_type": "display_data"
    },
    {
     "name": "stdout",
     "output_type": "stream",
     "text": [
      "Accuracy 3: 0.88\n"
     ]
    },
    {
     "data": {
      "image/png": "[encoded data removed]",
      "text/plain": [
       "<Figure size 432x288 with 1 Axes>"
      ]
     },
     "metadata": {
      "needs_background": "light"
     },
     "output_type": "display_data"
    },
    {
     "name": "stdout",
     "output_type": "stream",
     "text": [
      "Accuracy 4: 0.90\n"
     ]
    },
    {
     "data": {
      "image/png": "[encoded data removed]",
      "text/plain": [
       "<Figure size 432x288 with 1 Axes>"
      ]
     },
     "metadata": {
      "needs_background": "light"
     },
     "output_type": "display_data"
    },
    {
     "name": "stdout",
     "output_type": "stream",
     "text": [
      "Accuracy 5: 0.82\n"
     ]
    },
    {
     "data": {
      "image/png": "[encoded data removed]",
      "text/plain": [
       "<Figure size 432x288 with 1 Axes>"
      ]
     },
     "metadata": {
      "needs_background": "light"
     },
     "output_type": "display_data"
    },
    {
     "name": "stdout",
     "output_type": "stream",
     "text": [
      "Average Accuracy: 88.43%\n",
      "Standard Deviation: 3.91%\n"
     ]
    }
   ],
   "source": [
    "# Shuffle the data\n",
    "data = shuffle(data, random_state=42)\n",
    "\n",
    "# Separate the labels (y) and features (X)\n",
    "X = data.iloc[:, 1:]  # The remaining columns are the features\n",
    "y = np.where(data.iloc[:, 0].values != 3, -1, 1)  # The first column contains the labels, changing the labels to -1, 1\n",
    "\n",
    "n_repeats = 5\n",
    "test_size = 0.2\n",
    "n_splits = int(1 / test_size)\n",
    "accuracies = []\n",
    "\n",
    "for i in range(n_repeats):\n",
    "    # Split the data into training and test sets\n",
    "    split_index = int((i % n_splits) * len(X) * test_size)\n",
    "    X_test = X[split_index:split_index + int(len(X) * test_size)]\n",
    "    y_test = y[split_index:split_index + int(len(X) * test_size)]\n",
    "    X_train = np.concatenate([X[:split_index], X[split_index + int(len(X) * test_size):]])\n",
    "    y_train = np.concatenate([y[:split_index], y[split_index + int(len(X) * test_size):]])\n",
    "\n",
    "    \n",
    "    mlp = MLPClassifier(hidden_layer_sizes=(100,100), activation='relu', solver='adam', max_iter=500)\n",
    "    \n",
    "    # Train the model\n",
    "    history = mlp.fit(X_train, y_train)\n",
    "    \n",
    "    # Evaluate the model on the test set\n",
    "    accuracy = mlp.score(X_test, y_test)\n",
    "    accuracies.append(accuracy)\n",
    "    print(f'Accuracy {i+1}: {accuracy:.2f}')\n",
    "    \n",
    "    plt.plot(history.loss_curve_)\n",
    "    plt.title('Loss Curve')\n",
    "    plt.xlabel('Epoch')\n",
    "    plt.ylabel('Loss')\n",
    "    plt.show()    \n",
    "    \n",
    "    \n",
    "\n",
    "    \n",
    "std_dev = np.std(accuracies) / np.mean(accuracies) * 100\n",
    "average_accuracy = np.mean(accuracies) * 100\n",
    "print(f'Average Accuracy: {average_accuracy:.2f}%')\n",
    "print(f'Standard Deviation: {std_dev:.2f}%')"
   ]
  },
  {
   "cell_type": "markdown",
   "id": "d58201d5",
   "metadata": {},
   "source": [
    "## Comparing between \"Lamed\" & \"Mem\""
   ]
  },
  {
   "cell_type": "code",
   "execution_count": 11,
   "id": "18d9ec95",
   "metadata": {},
   "outputs": [],
   "source": [
    "data = ogdata[ogdata['1'] != 1] #Eliminating \"Bet\" denoted by 1"
   ]
  },
  {
   "cell_type": "code",
   "execution_count": 12,
   "id": "c13ed261",
   "metadata": {},
   "outputs": [
    {
     "name": "stdout",
     "output_type": "stream",
     "text": [
      "Accuracy 1: 0.93\n"
     ]
    },
    {
     "data": {
      "image/png": "[encoded data removed]",
      "text/plain": [
       "<Figure size 432x288 with 1 Axes>"
      ]
     },
     "metadata": {
      "needs_background": "light"
     },
     "output_type": "display_data"
    },
    {
     "name": "stdout",
     "output_type": "stream",
     "text": [
      "Accuracy 2: 0.89\n"
     ]
    },
    {
     "data": {
      "image/png": "[encoded data removed]",
      "text/plain": [
       "<Figure size 432x288 with 1 Axes>"
      ]
     },
     "metadata": {
      "needs_background": "light"
     },
     "output_type": "display_data"
    },
    {
     "name": "stdout",
     "output_type": "stream",
     "text": [
      "Accuracy 3: 0.90\n"
     ]
    },
    {
     "data": {
      "image/png": "[encoded data removed]",
      "text/plain": [
       "<Figure size 432x288 with 1 Axes>"
      ]
     },
     "metadata": {
      "needs_background": "light"
     },
     "output_type": "display_data"
    },
    {
     "name": "stdout",
     "output_type": "stream",
     "text": [
      "Accuracy 4: 0.91\n"
     ]
    },
    {
     "data": {
      "image/png": "[encoded data removed]",
      "text/plain": [
       "<Figure size 432x288 with 1 Axes>"
      ]
     },
     "metadata": {
      "needs_background": "light"
     },
     "output_type": "display_data"
    },
    {
     "name": "stdout",
     "output_type": "stream",
     "text": [
      "Accuracy 5: 0.93\n"
     ]
    },
    {
     "data": {
      "image/png": "[encoded data removed]",
      "text/plain": [
       "<Figure size 432x288 with 1 Axes>"
      ]
     },
     "metadata": {
      "needs_background": "light"
     },
     "output_type": "display_data"
    },
    {
     "name": "stdout",
     "output_type": "stream",
     "text": [
      "Average Accuracy: 91.22%\n",
      "Standard Deviation: 1.56%\n"
     ]
    }
   ],
   "source": [
    "# Shuffle the data\n",
    "data = shuffle(data, random_state=42)\n",
    "\n",
    "# Separate the labels (y) and features (X)\n",
    "X = data.iloc[:, 1:]  # The remaining columns are the features\n",
    "y = np.where(data.iloc[:, 0].values != 3, -1, 1)  # The first column contains the labels, changing the labels to -1, 1\n",
    "\n",
    "n_repeats = 5\n",
    "test_size = 0.2\n",
    "n_splits = int(1 / test_size)\n",
    "accuracies = []\n",
    "\n",
    "for i in range(n_repeats):\n",
    "    # Split the data into training and test sets\n",
    "    split_index = int((i % n_splits) * len(X) * test_size)\n",
    "    X_test = X[split_index:split_index + int(len(X) * test_size)]\n",
    "    y_test = y[split_index:split_index + int(len(X) * test_size)]\n",
    "    X_train = np.concatenate([X[:split_index], X[split_index + int(len(X) * test_size):]])\n",
    "    y_train = np.concatenate([y[:split_index], y[split_index + int(len(X) * test_size):]])\n",
    "\n",
    "    \n",
    "    mlp = MLPClassifier(hidden_layer_sizes=(100,100,100), activation='relu', solver='adam', max_iter=1000)\n",
    "    \n",
    "    # Train the model\n",
    "    history = mlp.fit(X_train, y_train)\n",
    "    \n",
    "    # Evaluate the model on the test set\n",
    "    accuracy = mlp.score(X_test, y_test)\n",
    "    accuracies.append(accuracy)\n",
    "    print(f'Accuracy {i+1}: {accuracy:.2f}')\n",
    "    \n",
    "    plt.plot(history.loss_curve_)\n",
    "    plt.title('Loss Curve')\n",
    "    plt.xlabel('Epoch')\n",
    "    plt.ylabel('Loss')\n",
    "    plt.show()\n",
    "\n",
    "    \n",
    "\n",
    "    \n",
    "std_dev = np.std(accuracies) / np.mean(accuracies) * 100\n",
    "average_accuracy = np.mean(accuracies) * 100\n",
    "print(f'Average Accuracy: {average_accuracy:.2f}%')\n",
    "print(f'Standard Deviation: {std_dev:.2f}%')"
   ]
  },
  {
   "cell_type": "code",
   "execution_count": null,
   "id": "cb694f5d",
   "metadata": {},
   "outputs": [],
   "source": []
  }
 ],
 "metadata": {
  "kernelspec": {
   "display_name": "Python 3",
   "language": "python",
   "name": "python3"
  },
  "language_info": {
   "codemirror_mode": {
    "name": "ipython",
    "version": 3
   },
   "file_extension": ".py",
   "mimetype": "text/x-python",
   "name": "python",
   "nbconvert_exporter": "python",
   "pygments_lexer": "ipython3",
   "version": "3.8.8"
  }
 },
 "nbformat": 4,
 "nbformat_minor": 5
}
